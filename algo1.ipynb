{
 "cells": [
  {
   "cell_type": "code",
   "execution_count": 13,
   "id": "f4c3eb43-69eb-4608-bc16-e08dce3454e7",
   "metadata": {},
   "outputs": [],
   "source": [
    "import tensorflow as tf"
   ]
  },
  {
   "cell_type": "code",
   "execution_count": null,
   "id": "5225a253-b39a-4888-9fc6-f1a1a8a0ec9a",
   "metadata": {},
   "outputs": [],
   "source": []
  },
  {
   "cell_type": "code",
   "execution_count": 14,
   "id": "147b876e-0f65-4a97-bc4f-1255b2e5f7cf",
   "metadata": {},
   "outputs": [],
   "source": [
    "import logging\n",
    "import time\n",
    "import sys\n",
    "str_t = time.strftime('%a-%d-%b-%Y', time.localtime(time.time()))\n",
    "logging.basicConfig(filename = '{}.log'.format(str_t), format='[%(asctime)s] %(levelname)s %(processName)s %(filename)s - %(message)s', filemode='w')\n",
    "\n",
    "logger = logging.getLogger()\n",
    "\n",
    "logger.setLevel(logging.DEBUG)\n",
    "logger.debug('Logger initiated.')\n",
    "\n",
    "\n"
   ]
  },
  {
   "cell_type": "code",
   "execution_count": 48,
   "id": "f8f10ff4-a5b9-4dd3-8b43-1838a6c5a5d6",
   "metadata": {},
   "outputs": [],
   "source": [
    "def create_model(input_shape, **kwargs):\n",
    "    \"\"\"\n",
    "    Create a convolutional deep learning model for classification of 4 type of tumor\n",
    "\n",
    "    parameters\n",
    "    ----------------------------------------------------------------------------------------------------------\n",
    "    input_shape : tuple\n",
    "        shape of input tensor which we going to feed in our CNN model\n",
    "    activation : string\n",
    "        activation function used for every layers int the model\n",
    "    summary : boolean\n",
    "        print summary of model articheture\n",
    "    compile : boolean\n",
    "        compile the model if arg is true\n",
    "    \"\"\"\n",
    "\n",
    "    params = {\n",
    "        'input_shape' : input_shape,\n",
    "        'activation' : 'relu',\n",
    "        'summary': True,\n",
    "        'compile': True\n",
    "    }\n",
    "    for key, value in kwargs.items():\n",
    "        params[key] = value\n",
    "        \n",
    "    \n",
    "    try :\n",
    "        from tensorflow.keras import models, layers, optimizers\n",
    "        logger.info('models and layers successfully imported from tensorflow')\n",
    "    except:\n",
    "        logger.error('Error while importing libraries from tensorflow')\n",
    "        print('Error while importing libraries from tensorflow')\n",
    "\n",
    "    \n",
    "    model = models.Sequential()\n",
    "    \n",
    "    model.add(layers.Conv2D(32, (3, 3),strides = (1, 1), activation = params['activation'], input_shape = input_shape))\n",
    "    model.add(layers.MaxPooling2D((2, 2)))\n",
    "\n",
    "    model.add(layers.Conv2D(64, (3, 3), activation = params['activation']))\n",
    "    model.add(layers.MaxPooling2D((2, 2)))\n",
    "\n",
    "    model.add(layers.Conv2D(128, (3, 3), activation = params['activation']))\n",
    "    model.add(layers.MaxPooling2D((2, 2)))\n",
    "\n",
    "    model.add(layers.Conv2D(128, (3, 3), activation = params['activation']))\n",
    "    model.add(layers.MaxPooling2D((2, 2)))\n",
    "\n",
    "    model.add(layers.Flatten())\n",
    "\n",
    "    model.add(layers.Dense(512))\n",
    "    model.add(layers.Dropout(0.3))\n",
    "    model.add(layers.Dense(128))\n",
    "    model.add(layers.Dropout(0.3))\n",
    "    model.add(layers.Dense(4, activation = 'sigmoid'))\n",
    "\n",
    "    if params['compile']:\n",
    "        model.compile(loss = 'CategoricalCrossentropy', optimizer = optimizers.RMSprop(learning_rate = 1e-4), metrics = ['accuracy'])\n",
    "    \n",
    "    if params['summary'] :\n",
    "        model.summary()\n",
    "\n",
    "    return model\n",
    "    "
   ]
  },
  {
   "cell_type": "code",
   "execution_count": 49,
   "id": "a0e92cc3-d457-4ffe-9910-0ca21e48f22a",
   "metadata": {},
   "outputs": [
    {
     "name": "stdout",
     "output_type": "stream",
     "text": [
      "Model: \"sequential_8\"\n",
      "_________________________________________________________________\n",
      " Layer (type)                Output Shape              Param #   \n",
      "=================================================================\n",
      " conv2d_23 (Conv2D)          (None, 126, 126, 32)      320       \n",
      "                                                                 \n",
      " max_pooling2d_21 (MaxPooli  (None, 63, 63, 32)        0         \n",
      " ng2D)                                                           \n",
      "                                                                 \n",
      " conv2d_24 (Conv2D)          (None, 61, 61, 64)        18496     \n",
      "                                                                 \n",
      " max_pooling2d_22 (MaxPooli  (None, 30, 30, 64)        0         \n",
      " ng2D)                                                           \n",
      "                                                                 \n",
      " conv2d_25 (Conv2D)          (None, 28, 28, 128)       73856     \n",
      "                                                                 \n",
      " max_pooling2d_23 (MaxPooli  (None, 14, 14, 128)       0         \n",
      " ng2D)                                                           \n",
      "                                                                 \n",
      " conv2d_26 (Conv2D)          (None, 12, 12, 128)       147584    \n",
      "                                                                 \n",
      " max_pooling2d_24 (MaxPooli  (None, 6, 6, 128)         0         \n",
      " ng2D)                                                           \n",
      "                                                                 \n",
      " flatten_5 (Flatten)         (None, 4608)              0         \n",
      "                                                                 \n",
      " dense_13 (Dense)            (None, 512)               2359808   \n",
      "                                                                 \n",
      " dropout_9 (Dropout)         (None, 512)               0         \n",
      "                                                                 \n",
      " dense_14 (Dense)            (None, 128)               65664     \n",
      "                                                                 \n",
      " dropout_10 (Dropout)        (None, 128)               0         \n",
      "                                                                 \n",
      " dense_15 (Dense)            (None, 4)                 516       \n",
      "                                                                 \n",
      "=================================================================\n",
      "Total params: 2666244 (10.17 MB)\n",
      "Trainable params: 2666244 (10.17 MB)\n",
      "Non-trainable params: 0 (0.00 Byte)\n",
      "_________________________________________________________________\n"
     ]
    }
   ],
   "source": [
    "model = create_model(input_shape = (128, 128, 1), summary = True)"
   ]
  },
  {
   "cell_type": "code",
   "execution_count": 50,
   "id": "32b75f3f-8de8-443b-8a1f-ac6f7b41b2f1",
   "metadata": {},
   "outputs": [],
   "source": [
    "import os\n",
    "\n",
    "dataset_dir = 'dataset'\n",
    "train_dir = os.path.join(dataset_dir, 'Training')\n",
    "test_dir = os.path.join(dataset_dir, 'Testing')\n",
    "val_dir = os.path.join(dataset_dir, 'validation')"
   ]
  },
  {
   "cell_type": "code",
   "execution_count": 51,
   "id": "3594ba44-615c-4bd4-8396-4de8e95e3157",
   "metadata": {},
   "outputs": [],
   "source": [
    "try :\n",
    "    from tensorflow.keras.preprocessing.image import ImageDataGenerator\n",
    "except:\n",
    "    logger.error('Error while import ImageDataGenerator from tensorflow')\n",
    "\n",
    "train_dataGen = ImageDataGenerator(rescale = 1./255, rotation_range = 40, width_shift_range = 0.2, height_shift_range = 0.2, shear_range = 0.2, zoom_range = 0.2, horizontal_flip = True) \n",
    "test_dataGen = ImageDataGenerator(rescale = 1./255,  rotation_range = 40, width_shift_range = 0.2, height_shift_range = 0.2, shear_range = 0.2, zoom_range = 0.2, horizontal_flip = True)\n",
    "val_dataGen = ImageDataGenerator(rescale = 1./255, rotation_range = 40, width_shift_range = 0.2, height_shift_range = 0.2, shear_range = 0.2, zoom_range = 0.2, horizontal_flip = True)"
   ]
  },
  {
   "cell_type": "code",
   "execution_count": 52,
   "id": "4cf22032-72f0-43ea-8a6a-bf2c540491ab",
   "metadata": {},
   "outputs": [
    {
     "name": "stdout",
     "output_type": "stream",
     "text": [
      "Found 1200 images belonging to 4 classes.\n",
      "Found 394 images belonging to 4 classes.\n",
      "Found 573 images belonging to 4 classes.\n"
     ]
    }
   ],
   "source": [
    "train_gen = train_dataGen.flow_from_directory(train_dir,color_mode = 'rgb',  batch_size = 16, target_size = (128, 128), class_mode = \"categorical\")\n",
    "test_gen = test_dataGen.flow_from_directory(test_dir,color_mode = 'rgb',  batch_size = 16, target_size = (128, 128), class_mode = \"categorical\")\n",
    "val_gen = val_dataGen.flow_from_directory(val_dir,color_mode = 'rgb',  batch_size = 16, target_size = (128, 128), class_mode = \"categorical\")"
   ]
  },
  {
   "cell_type": "code",
   "execution_count": null,
   "id": "60af7edd-3e1e-408f-9d4d-b8c4a14f65aa",
   "metadata": {},
   "outputs": [
    {
     "name": "stdout",
     "output_type": "stream",
     "text": [
      "Epoch 1/100\n"
     ]
    },
    {
     "name": "stderr",
     "output_type": "stream",
     "text": [
      "2024-03-24 18:43:23.778497: W tensorflow/core/framework/op_kernel.cc:1839] OP_REQUIRES failed at conv_ops_fused_impl.h:625 : INTERNAL: Cudnn graph failed to build: UNKNOWN: CUDNN_STATUS_BAD_PARAM\n",
      "in tensorflow/compiler/xla/stream_executor/cuda/cuda_dnn.cc(4665): 'conv_op' CUDNN_BACKEND_OPERATION: cudnnFinalize Failed\n"
     ]
    },
    {
     "ename": "InternalError",
     "evalue": "Graph execution error:\n\nDetected at node sequential_8/conv2d_23/Relu defined at (most recent call last):\n  File \"/usr/lib/python3.10/runpy.py\", line 196, in _run_module_as_main\n\n  File \"/usr/lib/python3.10/runpy.py\", line 86, in _run_code\n\n  File \"/home/rajnish8292/.local/lib/python3.10/site-packages/ipykernel_launcher.py\", line 17, in <module>\n\n  File \"/home/rajnish8292/.local/lib/python3.10/site-packages/traitlets/config/application.py\", line 1077, in launch_instance\n\n  File \"/home/rajnish8292/.local/lib/python3.10/site-packages/ipykernel/kernelapp.py\", line 739, in start\n\n  File \"/home/rajnish8292/.local/lib/python3.10/site-packages/tornado/platform/asyncio.py\", line 205, in start\n\n  File \"/usr/lib/python3.10/asyncio/base_events.py\", line 603, in run_forever\n\n  File \"/usr/lib/python3.10/asyncio/base_events.py\", line 1909, in _run_once\n\n  File \"/usr/lib/python3.10/asyncio/events.py\", line 80, in _run\n\n  File \"/home/rajnish8292/.local/lib/python3.10/site-packages/ipykernel/kernelbase.py\", line 529, in dispatch_queue\n\n  File \"/home/rajnish8292/.local/lib/python3.10/site-packages/ipykernel/kernelbase.py\", line 518, in process_one\n\n  File \"/home/rajnish8292/.local/lib/python3.10/site-packages/ipykernel/kernelbase.py\", line 424, in dispatch_shell\n\n  File \"/home/rajnish8292/.local/lib/python3.10/site-packages/ipykernel/kernelbase.py\", line 766, in execute_request\n\n  File \"/home/rajnish8292/.local/lib/python3.10/site-packages/ipykernel/ipkernel.py\", line 429, in do_execute\n\n  File \"/home/rajnish8292/.local/lib/python3.10/site-packages/ipykernel/zmqshell.py\", line 549, in run_cell\n\n  File \"/home/rajnish8292/.local/lib/python3.10/site-packages/IPython/core/interactiveshell.py\", line 3048, in run_cell\n\n  File \"/home/rajnish8292/.local/lib/python3.10/site-packages/IPython/core/interactiveshell.py\", line 3103, in _run_cell\n\n  File \"/home/rajnish8292/.local/lib/python3.10/site-packages/IPython/core/async_helpers.py\", line 129, in _pseudo_sync_runner\n\n  File \"/home/rajnish8292/.local/lib/python3.10/site-packages/IPython/core/interactiveshell.py\", line 3308, in run_cell_async\n\n  File \"/home/rajnish8292/.local/lib/python3.10/site-packages/IPython/core/interactiveshell.py\", line 3490, in run_ast_nodes\n\n  File \"/home/rajnish8292/.local/lib/python3.10/site-packages/IPython/core/interactiveshell.py\", line 3550, in run_code\n\n  File \"/tmp/ipykernel_914/1751813764.py\", line 1, in <module>\n\n  File \"/home/rajnish8292/.local/lib/python3.10/site-packages/keras/src/utils/traceback_utils.py\", line 65, in error_handler\n\n  File \"/home/rajnish8292/.local/lib/python3.10/site-packages/keras/src/engine/training.py\", line 1783, in fit\n\n  File \"/home/rajnish8292/.local/lib/python3.10/site-packages/keras/src/engine/training.py\", line 1377, in train_function\n\n  File \"/home/rajnish8292/.local/lib/python3.10/site-packages/keras/src/engine/training.py\", line 1360, in step_function\n\n  File \"/home/rajnish8292/.local/lib/python3.10/site-packages/keras/src/engine/training.py\", line 1349, in run_step\n\n  File \"/home/rajnish8292/.local/lib/python3.10/site-packages/keras/src/engine/training.py\", line 1126, in train_step\n\n  File \"/home/rajnish8292/.local/lib/python3.10/site-packages/keras/src/utils/traceback_utils.py\", line 65, in error_handler\n\n  File \"/home/rajnish8292/.local/lib/python3.10/site-packages/keras/src/engine/training.py\", line 589, in __call__\n\n  File \"/home/rajnish8292/.local/lib/python3.10/site-packages/keras/src/utils/traceback_utils.py\", line 65, in error_handler\n\n  File \"/home/rajnish8292/.local/lib/python3.10/site-packages/keras/src/engine/base_layer.py\", line 1149, in __call__\n\n  File \"/home/rajnish8292/.local/lib/python3.10/site-packages/keras/src/utils/traceback_utils.py\", line 96, in error_handler\n\n  File \"/home/rajnish8292/.local/lib/python3.10/site-packages/keras/src/engine/sequential.py\", line 398, in call\n\n  File \"/home/rajnish8292/.local/lib/python3.10/site-packages/keras/src/engine/functional.py\", line 515, in call\n\n  File \"/home/rajnish8292/.local/lib/python3.10/site-packages/keras/src/engine/functional.py\", line 672, in _run_internal_graph\n\n  File \"/home/rajnish8292/.local/lib/python3.10/site-packages/keras/src/utils/traceback_utils.py\", line 65, in error_handler\n\n  File \"/home/rajnish8292/.local/lib/python3.10/site-packages/keras/src/engine/base_layer.py\", line 1149, in __call__\n\n  File \"/home/rajnish8292/.local/lib/python3.10/site-packages/keras/src/utils/traceback_utils.py\", line 96, in error_handler\n\n  File \"/home/rajnish8292/.local/lib/python3.10/site-packages/keras/src/layers/convolutional/base_conv.py\", line 321, in call\n\n  File \"/home/rajnish8292/.local/lib/python3.10/site-packages/keras/src/activations.py\", line 306, in relu\n\n  File \"/home/rajnish8292/.local/lib/python3.10/site-packages/keras/src/backend.py\", line 5397, in relu\n\nCudnn graph failed to build: UNKNOWN: CUDNN_STATUS_BAD_PARAM\nin tensorflow/compiler/xla/stream_executor/cuda/cuda_dnn.cc(4665): 'conv_op' CUDNN_BACKEND_OPERATION: cudnnFinalize Failed\n\t [[{{node sequential_8/conv2d_23/Relu}}]] [Op:__inference_train_function_37100]",
     "output_type": "error",
     "traceback": [
      "\u001b[0;31m---------------------------------------------------------------------------\u001b[0m",
      "\u001b[0;31mInternalError\u001b[0m                             Traceback (most recent call last)",
      "Cell \u001b[0;32mIn[53], line 1\u001b[0m\n\u001b[0;32m----> 1\u001b[0m history \u001b[38;5;241m=\u001b[39m \u001b[43mmodel\u001b[49m\u001b[38;5;241;43m.\u001b[39;49m\u001b[43mfit\u001b[49m\u001b[43m(\u001b[49m\u001b[43mtrain_gen\u001b[49m\u001b[43m,\u001b[49m\u001b[43m \u001b[49m\u001b[43msteps_per_epoch\u001b[49m\u001b[43m \u001b[49m\u001b[38;5;241;43m=\u001b[39;49m\u001b[43m \u001b[49m\u001b[38;5;241;43m1200\u001b[39;49m\u001b[38;5;241;43m/\u001b[39;49m\u001b[38;5;241;43m/\u001b[39;49m\u001b[38;5;241;43m16\u001b[39;49m\u001b[43m,\u001b[49m\u001b[43m \u001b[49m\u001b[43mepochs\u001b[49m\u001b[43m \u001b[49m\u001b[38;5;241;43m=\u001b[39;49m\u001b[43m \u001b[49m\u001b[38;5;241;43m100\u001b[39;49m\u001b[43m,\u001b[49m\u001b[43m \u001b[49m\u001b[43mvalidation_data\u001b[49m\u001b[43m \u001b[49m\u001b[38;5;241;43m=\u001b[39;49m\u001b[43m \u001b[49m\u001b[43mval_gen\u001b[49m\u001b[43m,\u001b[49m\u001b[43m \u001b[49m\u001b[43mvalidation_steps\u001b[49m\u001b[43m \u001b[49m\u001b[38;5;241;43m=\u001b[39;49m\u001b[43m \u001b[49m\u001b[38;5;241;43m573\u001b[39;49m\u001b[38;5;241;43m/\u001b[39;49m\u001b[38;5;241;43m/\u001b[39;49m\u001b[38;5;241;43m16\u001b[39;49m\u001b[43m)\u001b[49m\n",
      "File \u001b[0;32m~/.local/lib/python3.10/site-packages/keras/src/utils/traceback_utils.py:70\u001b[0m, in \u001b[0;36mfilter_traceback.<locals>.error_handler\u001b[0;34m(*args, **kwargs)\u001b[0m\n\u001b[1;32m     67\u001b[0m     filtered_tb \u001b[38;5;241m=\u001b[39m _process_traceback_frames(e\u001b[38;5;241m.\u001b[39m__traceback__)\n\u001b[1;32m     68\u001b[0m     \u001b[38;5;66;03m# To get the full stack trace, call:\u001b[39;00m\n\u001b[1;32m     69\u001b[0m     \u001b[38;5;66;03m# `tf.debugging.disable_traceback_filtering()`\u001b[39;00m\n\u001b[0;32m---> 70\u001b[0m     \u001b[38;5;28;01mraise\u001b[39;00m e\u001b[38;5;241m.\u001b[39mwith_traceback(filtered_tb) \u001b[38;5;28;01mfrom\u001b[39;00m \u001b[38;5;28;01mNone\u001b[39;00m\n\u001b[1;32m     71\u001b[0m \u001b[38;5;28;01mfinally\u001b[39;00m:\n\u001b[1;32m     72\u001b[0m     \u001b[38;5;28;01mdel\u001b[39;00m filtered_tb\n",
      "File \u001b[0;32m~/.local/lib/python3.10/site-packages/tensorflow/python/eager/execute.py:60\u001b[0m, in \u001b[0;36mquick_execute\u001b[0;34m(op_name, num_outputs, inputs, attrs, ctx, name)\u001b[0m\n\u001b[1;32m     53\u001b[0m   \u001b[38;5;66;03m# Convert any objects of type core_types.Tensor to Tensor.\u001b[39;00m\n\u001b[1;32m     54\u001b[0m   inputs \u001b[38;5;241m=\u001b[39m [\n\u001b[1;32m     55\u001b[0m       tensor_conversion_registry\u001b[38;5;241m.\u001b[39mconvert(t)\n\u001b[1;32m     56\u001b[0m       \u001b[38;5;28;01mif\u001b[39;00m \u001b[38;5;28misinstance\u001b[39m(t, core_types\u001b[38;5;241m.\u001b[39mTensor)\n\u001b[1;32m     57\u001b[0m       \u001b[38;5;28;01melse\u001b[39;00m t\n\u001b[1;32m     58\u001b[0m       \u001b[38;5;28;01mfor\u001b[39;00m t \u001b[38;5;129;01min\u001b[39;00m inputs\n\u001b[1;32m     59\u001b[0m   ]\n\u001b[0;32m---> 60\u001b[0m   tensors \u001b[38;5;241m=\u001b[39m pywrap_tfe\u001b[38;5;241m.\u001b[39mTFE_Py_Execute(ctx\u001b[38;5;241m.\u001b[39m_handle, device_name, op_name,\n\u001b[1;32m     61\u001b[0m                                       inputs, attrs, num_outputs)\n\u001b[1;32m     62\u001b[0m \u001b[38;5;28;01mexcept\u001b[39;00m core\u001b[38;5;241m.\u001b[39m_NotOkStatusException \u001b[38;5;28;01mas\u001b[39;00m e:\n\u001b[1;32m     63\u001b[0m   \u001b[38;5;28;01mif\u001b[39;00m name \u001b[38;5;129;01mis\u001b[39;00m \u001b[38;5;129;01mnot\u001b[39;00m \u001b[38;5;28;01mNone\u001b[39;00m:\n",
      "\u001b[0;31mInternalError\u001b[0m: Graph execution error:\n\nDetected at node sequential_8/conv2d_23/Relu defined at (most recent call last):\n  File \"/usr/lib/python3.10/runpy.py\", line 196, in _run_module_as_main\n\n  File \"/usr/lib/python3.10/runpy.py\", line 86, in _run_code\n\n  File \"/home/rajnish8292/.local/lib/python3.10/site-packages/ipykernel_launcher.py\", line 17, in <module>\n\n  File \"/home/rajnish8292/.local/lib/python3.10/site-packages/traitlets/config/application.py\", line 1077, in launch_instance\n\n  File \"/home/rajnish8292/.local/lib/python3.10/site-packages/ipykernel/kernelapp.py\", line 739, in start\n\n  File \"/home/rajnish8292/.local/lib/python3.10/site-packages/tornado/platform/asyncio.py\", line 205, in start\n\n  File \"/usr/lib/python3.10/asyncio/base_events.py\", line 603, in run_forever\n\n  File \"/usr/lib/python3.10/asyncio/base_events.py\", line 1909, in _run_once\n\n  File \"/usr/lib/python3.10/asyncio/events.py\", line 80, in _run\n\n  File \"/home/rajnish8292/.local/lib/python3.10/site-packages/ipykernel/kernelbase.py\", line 529, in dispatch_queue\n\n  File \"/home/rajnish8292/.local/lib/python3.10/site-packages/ipykernel/kernelbase.py\", line 518, in process_one\n\n  File \"/home/rajnish8292/.local/lib/python3.10/site-packages/ipykernel/kernelbase.py\", line 424, in dispatch_shell\n\n  File \"/home/rajnish8292/.local/lib/python3.10/site-packages/ipykernel/kernelbase.py\", line 766, in execute_request\n\n  File \"/home/rajnish8292/.local/lib/python3.10/site-packages/ipykernel/ipkernel.py\", line 429, in do_execute\n\n  File \"/home/rajnish8292/.local/lib/python3.10/site-packages/ipykernel/zmqshell.py\", line 549, in run_cell\n\n  File \"/home/rajnish8292/.local/lib/python3.10/site-packages/IPython/core/interactiveshell.py\", line 3048, in run_cell\n\n  File \"/home/rajnish8292/.local/lib/python3.10/site-packages/IPython/core/interactiveshell.py\", line 3103, in _run_cell\n\n  File \"/home/rajnish8292/.local/lib/python3.10/site-packages/IPython/core/async_helpers.py\", line 129, in _pseudo_sync_runner\n\n  File \"/home/rajnish8292/.local/lib/python3.10/site-packages/IPython/core/interactiveshell.py\", line 3308, in run_cell_async\n\n  File \"/home/rajnish8292/.local/lib/python3.10/site-packages/IPython/core/interactiveshell.py\", line 3490, in run_ast_nodes\n\n  File \"/home/rajnish8292/.local/lib/python3.10/site-packages/IPython/core/interactiveshell.py\", line 3550, in run_code\n\n  File \"/tmp/ipykernel_914/1751813764.py\", line 1, in <module>\n\n  File \"/home/rajnish8292/.local/lib/python3.10/site-packages/keras/src/utils/traceback_utils.py\", line 65, in error_handler\n\n  File \"/home/rajnish8292/.local/lib/python3.10/site-packages/keras/src/engine/training.py\", line 1783, in fit\n\n  File \"/home/rajnish8292/.local/lib/python3.10/site-packages/keras/src/engine/training.py\", line 1377, in train_function\n\n  File \"/home/rajnish8292/.local/lib/python3.10/site-packages/keras/src/engine/training.py\", line 1360, in step_function\n\n  File \"/home/rajnish8292/.local/lib/python3.10/site-packages/keras/src/engine/training.py\", line 1349, in run_step\n\n  File \"/home/rajnish8292/.local/lib/python3.10/site-packages/keras/src/engine/training.py\", line 1126, in train_step\n\n  File \"/home/rajnish8292/.local/lib/python3.10/site-packages/keras/src/utils/traceback_utils.py\", line 65, in error_handler\n\n  File \"/home/rajnish8292/.local/lib/python3.10/site-packages/keras/src/engine/training.py\", line 589, in __call__\n\n  File \"/home/rajnish8292/.local/lib/python3.10/site-packages/keras/src/utils/traceback_utils.py\", line 65, in error_handler\n\n  File \"/home/rajnish8292/.local/lib/python3.10/site-packages/keras/src/engine/base_layer.py\", line 1149, in __call__\n\n  File \"/home/rajnish8292/.local/lib/python3.10/site-packages/keras/src/utils/traceback_utils.py\", line 96, in error_handler\n\n  File \"/home/rajnish8292/.local/lib/python3.10/site-packages/keras/src/engine/sequential.py\", line 398, in call\n\n  File \"/home/rajnish8292/.local/lib/python3.10/site-packages/keras/src/engine/functional.py\", line 515, in call\n\n  File \"/home/rajnish8292/.local/lib/python3.10/site-packages/keras/src/engine/functional.py\", line 672, in _run_internal_graph\n\n  File \"/home/rajnish8292/.local/lib/python3.10/site-packages/keras/src/utils/traceback_utils.py\", line 65, in error_handler\n\n  File \"/home/rajnish8292/.local/lib/python3.10/site-packages/keras/src/engine/base_layer.py\", line 1149, in __call__\n\n  File \"/home/rajnish8292/.local/lib/python3.10/site-packages/keras/src/utils/traceback_utils.py\", line 96, in error_handler\n\n  File \"/home/rajnish8292/.local/lib/python3.10/site-packages/keras/src/layers/convolutional/base_conv.py\", line 321, in call\n\n  File \"/home/rajnish8292/.local/lib/python3.10/site-packages/keras/src/activations.py\", line 306, in relu\n\n  File \"/home/rajnish8292/.local/lib/python3.10/site-packages/keras/src/backend.py\", line 5397, in relu\n\nCudnn graph failed to build: UNKNOWN: CUDNN_STATUS_BAD_PARAM\nin tensorflow/compiler/xla/stream_executor/cuda/cuda_dnn.cc(4665): 'conv_op' CUDNN_BACKEND_OPERATION: cudnnFinalize Failed\n\t [[{{node sequential_8/conv2d_23/Relu}}]] [Op:__inference_train_function_37100]"
     ]
    }
   ],
   "source": [
    "history = model.fit(train_gen, steps_per_epoch = 1200//16, epochs = 1000, validation_data = val_gen, validation_steps = 573//16)\n"
   ]
  },
  {
   "cell_type": "code",
   "execution_count": null,
   "id": "1325d4fc-9700-4c1d-90a3-58457d61331c",
   "metadata": {},
   "outputs": [],
   "source": [
    "import matplotlib.pyplot as plt\n",
    "acc = history.history['accuracy']\n",
    "val_acc = history.history['val_accuracy']\n",
    "loss = history.history['loss']\n",
    "val_loss = history.history['val_loss']\n",
    "\n",
    "\n",
    "epoch = range(1, len(acc)+1)\n",
    "\n",
    "plt.plot(epoch, acc, 'r-', label = 'Traning accuracy')\n",
    "plt.plot(epoch, val_acc, 'b-', label = 'Validation accuracy')\n",
    "plt.legend()\n",
    "plt.figure()"
   ]
  },
  {
   "cell_type": "code",
   "execution_count": null,
   "id": "ae68bf51-c3d8-41ba-ad30-71b339742efa",
   "metadata": {},
   "outputs": [],
   "source": [
    "plt.plot(epoch, loss, 'bo', label = 'Traning loss')\n",
    "plt.plot(epoch, val_loss, 'b-', label = 'Validation loss')\n",
    "plt.legend()\n",
    "plt.figure()"
   ]
  },
  {
   "cell_type": "markdown",
   "id": "db465904-19da-49fb-89b6-61cd495f21d0",
   "metadata": {},
   "source": [
    "image = tf.keras.image.load_image('D:\\workspace\\tensorflow\\deep_learning\\brain_tumor\\dataset\\Training\\meningioma_tumor\\mm (1).jpg')"
   ]
  }
 ],
 "metadata": {
  "kernelspec": {
   "display_name": "Python 3 (ipykernel)",
   "language": "python",
   "name": "python3"
  },
  "language_info": {
   "codemirror_mode": {
    "name": "ipython",
    "version": 3
   },
   "file_extension": ".py",
   "mimetype": "text/x-python",
   "name": "python",
   "nbconvert_exporter": "python",
   "pygments_lexer": "ipython3",
   "version": "3.10.12"
  }
 },
 "nbformat": 4,
 "nbformat_minor": 5
}
